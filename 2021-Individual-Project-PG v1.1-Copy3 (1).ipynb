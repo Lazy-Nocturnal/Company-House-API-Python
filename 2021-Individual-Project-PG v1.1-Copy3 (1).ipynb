{
 "cells": [
  {
   "cell_type": "code",
   "execution_count": 21,
   "id": "6210e2b8",
   "metadata": {},
   "outputs": [
    {
     "data": {
      "text/html": [
       "<style>.container { width:100% !important; }</style>"
      ],
      "text/plain": [
       "<IPython.core.display.HTML object>"
      ]
     },
     "metadata": {},
     "output_type": "display_data"
    }
   ],
   "source": [
    "# experimental: you can run this cell to see your code full-width\n",
    "\n",
    "from IPython.core.display import display, HTML\n",
    "display(HTML(\"<style>.container { width:100% !important; }</style>\"))"
   ]
  },
  {
   "cell_type": "code",
   "execution_count": 22,
   "id": "8ad22cd8",
   "metadata": {},
   "outputs": [],
   "source": [
    "# list of library for this project\n",
    "import requests\n",
    "import pprint as pp\n",
    "import datetime\n",
    "from datetime import date \n",
    "from datetime import datetime\n",
    "import matplotlib.pyplot as plt\n",
    "import math\n",
    "import pandas as pd\n",
    "# you might need to add a few of your own"
   ]
  },
  {
   "cell_type": "code",
   "execution_count": 304,
   "id": "b24fd15d",
   "metadata": {},
   "outputs": [],
   "source": [
    "# function for calling the API to retrieve JSON\n",
    "def call_api_with(url_extension):\n",
    "    your_company_house_api_key = \"788599db-f611-4116-a9b7-db9318c6715a\"\n",
    "    login_headers = {\"Authorization\":your_company_house_api_key}\n",
    "    url = f\"https://api.companieshouse.gov.uk/{url_extension}\"\n",
    "    # above: could be eg. https://api.companieshouse.gov.uk/search/companies?q=shop&items_per_page=1\n",
    "    #print(f'requesting: {url}') \n",
    "    # above, optional: printing, so that you see visually how many calls you are making\n",
    "    res = requests.get(url, headers=login_headers) #, verify=False)\n",
    "    return res.json()\n",
    "\n",
    "# test to get one company\n",
    "def get_one_test_company_or_error():\n",
    "    url = f\"search/companies?q=shop&items_per_page=1\"\n",
    "    return call_api_with(url)\n",
    "\n",
    "# search company with specific query / keyword\n",
    "def search_for_companies_with_query(query, optionalNumber_of_companies = 100, page = 0):\n",
    "    url = f\"search/companies?q={query}&items_per_page={optionalNumber_of_companies}&start_index={page * optionalNumber_of_companies}\"\n",
    "    return call_api_with(url).get('items', [])\n",
    "\n",
    "# request to get company data based on company number\n",
    "def data_for_company(company_number):\n",
    "    url = f\"company/{company_number}\"\n",
    "    return call_api_with(url)\n",
    "\n",
    "# get all persons with significant control from company which contains specific keyword\n",
    "def all_persons_in_company(company_number):\n",
    "    url = f\"company/{company_number}/persons-with-significant-control\"\n",
    "    return call_api_with(url).get('items', [])\n",
    "\n",
    "def detailed_info_about_companies_with_ids(companies_numbers):\n",
    "    results = []\n",
    "    for company_number in companies_numbers:\n",
    "        results.append(data_for_company(company_number))\n",
    "    return results\n",
    "    # when calling this, think - how will you get just the ids from search_for_companies_with_query?\n",
    "    # maybe you could write another function that will combine search and detailed_info ?"
   ]
  },
  {
   "cell_type": "markdown",
   "id": "7499380a",
   "metadata": {},
   "source": [
    "### End of example code"
   ]
  },
  {
   "cell_type": "code",
   "execution_count": null,
   "id": "89bec50c",
   "metadata": {},
   "outputs": [],
   "source": []
  },
  {
   "cell_type": "markdown",
   "id": "4180115e",
   "metadata": {},
   "source": [
    "# Business Question 1: Which industery have better equality of gender ratio of people having significant control among these four different industry Supermarket, Hospital, Bank, Fashion?"
   ]
  },
  {
   "cell_type": "markdown",
   "id": "18915b62",
   "metadata": {},
   "source": [
    "### Business Question 1: Code:"
   ]
  },
  {
   "cell_type": "code",
   "execution_count": null,
   "id": "7c9a234e",
   "metadata": {
    "deletable": false,
    "nbgrader": {
     "cell_type": "code",
     "checksum": "9a6e3a6a854c5207e8fcb66335471a5d",
     "grade": true,
     "grade_id": "cell-b5b5ea7c8326b1d9",
     "locked": false,
     "points": 100,
     "schema_version": 3,
     "solution": true,
     "task": false
    }
   },
   "outputs": [],
   "source": []
  },
  {
   "cell_type": "code",
   "execution_count": 216,
   "id": "17d4319c",
   "metadata": {},
   "outputs": [],
   "source": [
    "inds = ['supermarket', 'hospital', 'bank', 'fashion']\n",
    "#creating 500 searches for each industry \n",
    "searches = {}\n",
    "for ind in inds:\n",
    "    searches[ind] = []\n",
    "    for i in range(5):\n",
    "        searches[ind] += search_for_companies_with_query(ind, 100, i)"
   ]
  },
  {
   "cell_type": "code",
   "execution_count": 217,
   "id": "f9308860",
   "metadata": {},
   "outputs": [],
   "source": [
    "ind_num = {}\n",
    "#searching each industry\n",
    "for ind in inds:\n",
    "    ind_num[ind] = []\n",
    "    #searching each company\n",
    "    for cmp in searches[ind]:\n",
    "        cmp_number = cmp['company_number']\n",
    "        ind_num[ind].append(cmp_number)\n",
    "    ind_num[ind] = list(set(ind_num[ind]))"
   ]
  },
  {
   "cell_type": "code",
   "execution_count": 218,
   "id": "hired-opinion",
   "metadata": {},
   "outputs": [],
   "source": [
    "def gender_of_person(list_of_company_numbers):\n",
    "    list_of_genders = []\n",
    "    for num in list_of_company_numbers:\n",
    "        ppl = all_persons_in_company(num)\n",
    "        for person in ppl:\n",
    "            if 'name_elements' in person:\n",
    "                if 'title' in person['name_elements']:\n",
    "                    title = person['name_elements']['title']\n",
    "                    if title == 'Ms' or title == 'Mrs' or title =='Miss':\n",
    "                        list_of_genders.append(\"Female\")\n",
    "                    else:\n",
    "                        list_of_genders.append('Male')\n",
    "    return list_of_genders"
   ]
  },
  {
   "cell_type": "code",
   "execution_count": 92,
   "id": "oriented-double",
   "metadata": {
    "scrolled": true
   },
   "outputs": [],
   "source": [
    "sups = ind_num['supermarket']\n",
    "sups_gender = gender_of_person(sups)"
   ]
  },
  {
   "cell_type": "code",
   "execution_count": 231,
   "id": "earned-housing",
   "metadata": {},
   "outputs": [],
   "source": [
    "hosps = ind_num['hospital']\n",
    "hosps_gender = gender_of_person(hosps)"
   ]
  },
  {
   "cell_type": "code",
   "execution_count": 100,
   "id": "particular-orlando",
   "metadata": {},
   "outputs": [],
   "source": [
    "bank = ind_num['bank']\n",
    "bank_gender = gender_of_person(bank)"
   ]
  },
  {
   "cell_type": "code",
   "execution_count": 112,
   "id": "departmental-board",
   "metadata": {},
   "outputs": [],
   "source": [
    "fashion = ind_num['fashion']\n",
    "fashion_gender = gender_of_person(fashion)"
   ]
  },
  {
   "cell_type": "code",
   "execution_count": 235,
   "id": "motivated-cream",
   "metadata": {},
   "outputs": [],
   "source": [
    "from collections import Counter\n",
    "#gender=Counter(sups_gender)\n",
    "\n",
    "def gender_comp(gender_list):\n",
    "    identity = Counter(gender_list)\n",
    "    return(identity)"
   ]
  },
  {
   "cell_type": "code",
   "execution_count": 236,
   "id": "weekly-decrease",
   "metadata": {},
   "outputs": [],
   "source": [
    "hospital_count = gender_comp(hosps_gender)"
   ]
  },
  {
   "cell_type": "code",
   "execution_count": 237,
   "id": "danish-monitor",
   "metadata": {},
   "outputs": [],
   "source": [
    "sups_count = gender_comp(sups_gender)"
   ]
  },
  {
   "cell_type": "code",
   "execution_count": 238,
   "id": "continued-december",
   "metadata": {},
   "outputs": [],
   "source": [
    "fashion_count = gender_comp(fashion_gender)"
   ]
  },
  {
   "cell_type": "code",
   "execution_count": 239,
   "id": "silent-landscape",
   "metadata": {},
   "outputs": [],
   "source": [
    "bank_count = gender_comp(bank_gender)"
   ]
  },
  {
   "cell_type": "code",
   "execution_count": 260,
   "id": "limiting-spelling",
   "metadata": {
    "scrolled": true
   },
   "outputs": [
    {
     "data": {
      "text/html": [
       "<div>\n",
       "<style scoped>\n",
       "    .dataframe tbody tr th:only-of-type {\n",
       "        vertical-align: middle;\n",
       "    }\n",
       "\n",
       "    .dataframe tbody tr th {\n",
       "        vertical-align: top;\n",
       "    }\n",
       "\n",
       "    .dataframe thead th {\n",
       "        text-align: right;\n",
       "    }\n",
       "</style>\n",
       "<table border=\"1\" class=\"dataframe\">\n",
       "  <thead>\n",
       "    <tr style=\"text-align: right;\">\n",
       "      <th></th>\n",
       "      <th>Supermarkets</th>\n",
       "    </tr>\n",
       "    <tr>\n",
       "      <th>Gender</th>\n",
       "      <th></th>\n",
       "    </tr>\n",
       "  </thead>\n",
       "  <tbody>\n",
       "    <tr>\n",
       "      <th>Male</th>\n",
       "      <td>444</td>\n",
       "    </tr>\n",
       "    <tr>\n",
       "      <th>Female</th>\n",
       "      <td>88</td>\n",
       "    </tr>\n",
       "  </tbody>\n",
       "</table>\n",
       "</div>"
      ],
      "text/plain": [
       "        Supermarkets\n",
       "Gender              \n",
       "Male             444\n",
       "Female            88"
      ]
     },
     "execution_count": 260,
     "metadata": {},
     "output_type": "execute_result"
    }
   ],
   "source": [
    "Supermarkets = pd.DataFrame.from_dict(sups_count, orient='index').reset_index()\n",
    "Supermarkets.columns = ['Gender', 'Supermarkets']\n",
    "Supermarkets=Supermarkets.set_index('Gender')\n",
    "Supermarkets"
   ]
  },
  {
   "cell_type": "code",
   "execution_count": 276,
   "id": "curious-residence",
   "metadata": {},
   "outputs": [
    {
     "data": {
      "text/html": [
       "<div>\n",
       "<style scoped>\n",
       "    .dataframe tbody tr th:only-of-type {\n",
       "        vertical-align: middle;\n",
       "    }\n",
       "\n",
       "    .dataframe tbody tr th {\n",
       "        vertical-align: top;\n",
       "    }\n",
       "\n",
       "    .dataframe thead th {\n",
       "        text-align: right;\n",
       "    }\n",
       "</style>\n",
       "<table border=\"1\" class=\"dataframe\">\n",
       "  <thead>\n",
       "    <tr style=\"text-align: right;\">\n",
       "      <th></th>\n",
       "      <th>Hospital</th>\n",
       "    </tr>\n",
       "    <tr>\n",
       "      <th>Gender</th>\n",
       "      <th></th>\n",
       "    </tr>\n",
       "  </thead>\n",
       "  <tbody>\n",
       "    <tr>\n",
       "      <th>Female</th>\n",
       "      <td>91</td>\n",
       "    </tr>\n",
       "    <tr>\n",
       "      <th>Male</th>\n",
       "      <td>408</td>\n",
       "    </tr>\n",
       "  </tbody>\n",
       "</table>\n",
       "</div>"
      ],
      "text/plain": [
       "        Hospital\n",
       "Gender          \n",
       "Female        91\n",
       "Male         408"
      ]
     },
     "execution_count": 276,
     "metadata": {},
     "output_type": "execute_result"
    }
   ],
   "source": [
    "Hospital = pd.DataFrame.from_dict(hospital_count, orient='index').reset_index()\n",
    "Hospital.columns = ['Gender', 'Hospital']\n",
    "Hospital=Hospital.set_index('Gender')\n",
    "Hospital"
   ]
  },
  {
   "cell_type": "code",
   "execution_count": 277,
   "id": "equal-animal",
   "metadata": {},
   "outputs": [],
   "source": [
    "Banking = pd.DataFrame.from_dict(bank_count, orient='index').reset_index()\n",
    "Banking.columns = ['Gender', 'Banking']\n",
    "Banking=Banking.set_index('Gender')"
   ]
  },
  {
   "cell_type": "code",
   "execution_count": 278,
   "id": "blessed-logan",
   "metadata": {},
   "outputs": [],
   "source": [
    "Fashion = pd.DataFrame.from_dict(fashion_count, orient='index').reset_index()\n",
    "Fashion.columns = ['Gender', 'Fashion']\n",
    "Fashion=Fashion.set_index('Gender')"
   ]
  },
  {
   "cell_type": "code",
   "execution_count": 290,
   "id": "stunning-ecology",
   "metadata": {},
   "outputs": [
    {
     "data": {
      "text/html": [
       "<div>\n",
       "<style scoped>\n",
       "    .dataframe tbody tr th:only-of-type {\n",
       "        vertical-align: middle;\n",
       "    }\n",
       "\n",
       "    .dataframe tbody tr th {\n",
       "        vertical-align: top;\n",
       "    }\n",
       "\n",
       "    .dataframe thead th {\n",
       "        text-align: right;\n",
       "    }\n",
       "</style>\n",
       "<table border=\"1\" class=\"dataframe\">\n",
       "  <thead>\n",
       "    <tr style=\"text-align: right;\">\n",
       "      <th></th>\n",
       "      <th>Supermarkets</th>\n",
       "      <th>Hospital</th>\n",
       "      <th>Fashion</th>\n",
       "      <th>Banking</th>\n",
       "    </tr>\n",
       "    <tr>\n",
       "      <th>Gender</th>\n",
       "      <th></th>\n",
       "      <th></th>\n",
       "      <th></th>\n",
       "      <th></th>\n",
       "    </tr>\n",
       "  </thead>\n",
       "  <tbody>\n",
       "    <tr>\n",
       "      <th>Male</th>\n",
       "      <td>444</td>\n",
       "      <td>408</td>\n",
       "      <td>340</td>\n",
       "      <td>238</td>\n",
       "    </tr>\n",
       "    <tr>\n",
       "      <th>Female</th>\n",
       "      <td>88</td>\n",
       "      <td>91</td>\n",
       "      <td>207</td>\n",
       "      <td>99</td>\n",
       "    </tr>\n",
       "  </tbody>\n",
       "</table>\n",
       "</div>"
      ],
      "text/plain": [
       "        Supermarkets  Hospital  Fashion  Banking\n",
       "Gender                                          \n",
       "Male             444       408      340      238\n",
       "Female            88        91      207       99"
      ]
     },
     "execution_count": 290,
     "metadata": {},
     "output_type": "execute_result"
    }
   ],
   "source": [
    "total = pd.concat([Supermarkets,Hospital,Fashion,Banking] ,axis=1)\n",
    "# total = total.T.groupby(level =0).first().T\n",
    "total"
   ]
  },
  {
   "cell_type": "code",
   "execution_count": null,
   "id": "dental-courtesy",
   "metadata": {},
   "outputs": [],
   "source": []
  },
  {
   "cell_type": "markdown",
   "id": "027592ea",
   "metadata": {},
   "source": [
    "### Business Question 1: Mini-report and visualisation:"
   ]
  },
  {
   "cell_type": "markdown",
   "id": "9268c3a9",
   "metadata": {},
   "source": [
    "Summary :\n",
    "An NGO  “ABC” working for women equality wants to analyze the data of women holding significant control level position in UK four major different industries namely as Supermarkets,Hospital, Fashion,Banking. While working for NGO \"ABC\", I went through data of Male and Females engaged in different sectors at Top Positions of Organisation and found a stark difference between the holding significant control level position between male and Female. It can be concluded from the data that Males are dominating top across different sectors in comparison to their Female counterparts, Fashion Industry have somewhere the hieghest ratio amoung all these four sectors only. This indicates a clear disparity in terms of gender at holding significant control level position in the companies. "
   ]
  },
  {
   "cell_type": "code",
   "execution_count": 291,
   "id": "upset-valuation",
   "metadata": {},
   "outputs": [
    {
     "data": {
      "text/plain": [
       "<AxesSubplot:>"
      ]
     },
     "execution_count": 291,
     "metadata": {},
     "output_type": "execute_result"
    },
    {
     "data": {
      "image/png": "[encoded data removed]",
      "text/plain": [
       "<Figure size 432x288 with 1 Axes>"
      ]
     },
     "metadata": {
      "needs_background": "light"
     },
     "output_type": "display_data"
    }
   ],
   "source": [
    "total.T.plot.bar(stacked=True,rot=0, color= ['blue','pink'])"
   ]
  },
  {
   "cell_type": "markdown",
   "id": "6dc9e7e6",
   "metadata": {},
   "source": [
    "# Business Question 2: what are the nationality distribution of people holding signifacnt control in four major sector namely Agriculture, Beverages, Construction, Media in UK based companies?"
   ]
  },
  {
   "cell_type": "markdown",
   "id": "1cc860d0",
   "metadata": {},
   "source": [
    "### Business Question 2: Code:"
   ]
  },
  {
   "cell_type": "code",
   "execution_count": 294,
   "id": "b2aad17e",
   "metadata": {
    "deletable": false,
    "nbgrader": {
     "cell_type": "code",
     "checksum": "5852b9053d1c37cb5d3d238ee64a94cf",
     "grade": true,
     "grade_id": "cell-7c8b65431ad41ec6",
     "locked": false,
     "points": 100,
     "schema_version": 3,
     "solution": true,
     "task": false
    }
   },
   "outputs": [],
   "source": [
    "inds = ['agriculture', 'beverages', 'construction', 'media']\n",
    "#creating 500 searches for each industry \n",
    "searches = {}\n",
    "for ind in inds:\n",
    "    searches[ind] = []\n",
    "    for i in range(5):\n",
    "        searches[ind] += search_for_companies_with_query(ind, 100, i)"
   ]
  },
  {
   "cell_type": "code",
   "execution_count": 295,
   "id": "utility-density",
   "metadata": {},
   "outputs": [],
   "source": [
    "ind_num = {}\n",
    "#searching each industry\n",
    "for ind in inds:\n",
    "    ind_num[ind] = []\n",
    "    #searching each company\n",
    "    for cmp in searches[ind]:\n",
    "        cmp_number = cmp['company_number']\n",
    "        ind_num[ind].append(cmp_number)\n",
    "    ind_num[ind] = list(set(ind_num[ind]))"
   ]
  },
  {
   "cell_type": "code",
   "execution_count": 296,
   "id": "a9e48f86",
   "metadata": {},
   "outputs": [],
   "source": [
    "def nationality_of_person(list_of_company_numbers):\n",
    "    list_of_nationalities = []\n",
    "    for num in list_of_company_numbers:\n",
    "        ppl = all_persons_in_company(num)\n",
    "        for person in ppl:\n",
    "            if 'nationality' in person:\n",
    "                list_of_nationalities.append(person['nationality'])\n",
    "    return list_of_nationalities"
   ]
  },
  {
   "cell_type": "code",
   "execution_count": 297,
   "id": "floating-father",
   "metadata": {},
   "outputs": [],
   "source": [
    "Agriculture= ind_num['agriculture']\n",
    "Agriculture = nationality_of_person(Agriculture)"
   ]
  },
  {
   "cell_type": "code",
   "execution_count": 299,
   "id": "87ae26bd",
   "metadata": {},
   "outputs": [],
   "source": [
    "Beverages = ind_num['beverages']\n",
    "Beverages = nationality_of_person(Beverages)"
   ]
  },
  {
   "cell_type": "code",
   "execution_count": 302,
   "id": "annual-torture",
   "metadata": {},
   "outputs": [],
   "source": [
    "Construction = ind_num['construction']\n",
    "Construction = nationality_of_person(Construction)"
   ]
  },
  {
   "cell_type": "code",
   "execution_count": 305,
   "id": "adjusted-notice",
   "metadata": {},
   "outputs": [],
   "source": [
    "Media = ind_num['media']\n",
    "Media = nationality_of_person(Media)"
   ]
  },
  {
   "cell_type": "markdown",
   "id": "f5f4cee1",
   "metadata": {},
   "source": [
    "### Business Question 2: Mini-report and visualisation:"
   ]
  },
  {
   "cell_type": "markdown",
   "id": "d908526d",
   "metadata": {},
   "source": [
    "Summary :\n",
    "To improve multicultural work environment in UK based companies  Government of United Kingdom wants to make some amendment in UK companies laws of People with Significant Control (PSC). We took data directly from UK Company house data source directly calling through API of 100 companies for each sector . After making rigorous analyse using python language of  data of nationality distribution of people holding significant control in four major industries namely Beverages, Agriculture, Construction, Media industries of UK from company house data source. As per the law any nationality people can have a significant control position in UK based companies.\n",
    "While analysing the data set with visualization of people’s nationality we found that there are vast disparity of people’s nationality distribution  among all these industries. Majorly British people are holding significant control of companies very few people from other countries are holding significant control positions in these companies. Overseas people have the rights of holding significant control in UK based companies but there are many legal requirements to fulfil for holding these positions."
   ]
  },
  {
   "cell_type": "code",
   "execution_count": 311,
   "id": "1094910b",
   "metadata": {},
   "outputs": [
    {
     "data": {
      "image/png": "[encoded data removed]",
      "text/plain": [
       "<Figure size 720x576 with 4 Axes>"
      ]
     },
     "metadata": {
      "needs_background": "light"
     },
     "output_type": "display_data"
    }
   ],
   "source": [
    "from collections import Counter\n",
    "nat = Counter(beverages)\n",
    "new_nat = sorted(nat, key=nat.get, reverse=True)[:4]\n",
    "nat = [nat[i] for i in new_nat]\n",
    "inds = ['Beverages','Agriculture','Construction','Media']\n",
    "fig, axs = plt.subplots(2, 2, figsize=(10, 8))\n",
    "\n",
    "axs = axs.ravel()\n",
    "g = 0\n",
    "for ind in [Beverages, Agriculture, Construction, Media]:\n",
    "    nat = Counter(ind)\n",
    "    new_nat = sorted(nat, key=nat.get, reverse=True)[:5]\n",
    "    nat = [nat[i] for i in new_nat]\n",
    "    axs[g].bar(new_nat,nat)\n",
    "    axs[g].set_title(inds[g])\n",
    "    g += 1"
   ]
  },
  {
   "cell_type": "markdown",
   "id": "aa4b6d95",
   "metadata": {},
   "source": [
    "## Business Question 3:  Among these four sector namely as Supermarkets, Hotel, Bank, Hospital which sector have higher Bankruptcy rate?"
   ]
  },
  {
   "cell_type": "markdown",
   "id": "c28ebd9b",
   "metadata": {},
   "source": [
    "### Business Question 3: Code:"
   ]
  },
  {
   "cell_type": "code",
   "execution_count": null,
   "id": "d2d0bcda",
   "metadata": {
    "deletable": false,
    "nbgrader": {
     "cell_type": "code",
     "checksum": "7cc2cae3f32d42f786fc296b8cca2655",
     "grade": true,
     "grade_id": "cell-fdc7a4890d4d0d75",
     "locked": false,
     "points": 100,
     "schema_version": 3,
     "solution": true,
     "task": false
    }
   },
   "outputs": [],
   "source": [
    "inds = ['supermarket', 'hospital', 'bank', 'hotel']\n",
    "#creating 500 searches for each industry \n",
    "searches = {}\n",
    "for ind in inds:\n",
    "    searches[ind] = []\n",
    "    for i in range(5):\n",
    "        searches[ind] += search_for_companies_with_query(ind, 100, i)"
   ]
  },
  {
   "cell_type": "code",
   "execution_count": null,
   "id": "great-least",
   "metadata": {},
   "outputs": [],
   "source": [
    "ind_num = {}\n",
    "#searching each industry\n",
    "for ind in inds:\n",
    "    ind_num[ind] = []\n",
    "    #searching each company\n",
    "    for cmp in searches[ind]:\n",
    "        cmp_number = cmp['company_number']\n",
    "        ind_num[ind].append(cmp_number)\n",
    "    ind_num[ind] = list(set(ind_num[ind]))"
   ]
  },
  {
   "cell_type": "code",
   "execution_count": 248,
   "id": "9cb5fc7b",
   "metadata": {},
   "outputs": [],
   "source": [
    "def isbankrupt(list_of_company_numbers):\n",
    "    isbankrupt = []\n",
    "    for num in list_of_company_numbers:\n",
    "        data = data_for_company(num)\n",
    "        if 'has_insolvency_history' in data:\n",
    "            isbankrupt.append(data['has_insolvency_history'])\n",
    "    return isbankrupt"
   ]
  },
  {
   "cell_type": "code",
   "execution_count": null,
   "id": "chemical-reputation",
   "metadata": {},
   "outputs": [],
   "source": [
    "hotels = ind_num['hotel']\n",
    "hotel_bankruptcy = isbankrupt(hotels)"
   ]
  },
  {
   "cell_type": "code",
   "execution_count": 241,
   "id": "enabling-hungarian",
   "metadata": {},
   "outputs": [],
   "source": [
    "sups = ind_num['bank']\n",
    "sups_bankruptcy = isbankrupt(bank)"
   ]
  },
  {
   "cell_type": "code",
   "execution_count": 253,
   "id": "valued-employer",
   "metadata": {},
   "outputs": [],
   "source": [
    "bank = ind_num['bank']\n",
    "bank_bankruptcy = isbankrupt(bank)"
   ]
  },
  {
   "cell_type": "code",
   "execution_count": 256,
   "id": "fantastic-herald",
   "metadata": {},
   "outputs": [],
   "source": [
    "hospital = ind_num['hospital']\n",
    "hospital_bankruptcy = isbankrupt(hospital)"
   ]
  },
  {
   "cell_type": "markdown",
   "id": "0c1c4916",
   "metadata": {},
   "source": [
    "### Business Question 3: Mini-report and visualisation:"
   ]
  },
  {
   "cell_type": "markdown",
   "id": "d7bf0985",
   "metadata": {},
   "source": [
    "Summary ;\n",
    "Investors in UK are looking to invest in different industries during uncertain covid times. \n",
    "We took data directly from UK Company house data source directly calling through API of 100 companies for each sector. After making rigorous analyse using python language of  data of bankrupted status of companies in UK company house of four major different sectors Supermarkets, Hotel, Bank, Hospital. While looking at data visualisation using pie chart of four different sectors Supermarkets, Hotel, Bank, Hospital and of all these sectors we found that mainly Bank and  Supermarkets are bankrupted higher than other two. Supermarkets and Bank industries are nearly 7.7%  equally bankrupted while hotels have 4.2% and hospitals have 3.6% bankruptcy. So as per data suggested for investors it is good to invest in lower bankrupted industries of Supermarkets and Bank in respect of higher bankrupted companies."
   ]
  },
  {
   "cell_type": "code",
   "execution_count": 257,
   "id": "766bad64",
   "metadata": {},
   "outputs": [
    {
     "data": {
      "image/png": "[encoded data removed]",
      "text/plain": [
       "<Figure size 720x576 with 4 Axes>"
      ]
     },
     "metadata": {},
     "output_type": "display_data"
    }
   ],
   "source": [
    "fig, axs = plt.subplots(2, 2, figsize=(10, 8))\n",
    "\n",
    "axs = axs.ravel()\n",
    "g = 0\n",
    "for ind in [sups_bankruptcy, hospital_bankruptcy, bank_bankruptcy, hotel_bankruptcy]:\n",
    "    bankrupt = Counter(ind)\n",
    "    axs[g].pie(bankrupt.values(),labels = ['Not Bankrupt','Bankrupt'],autopct='%1.1f%%')\n",
    "    axs[g].set_title(inds[g])\n",
    "    g += 1"
   ]
  },
  {
   "cell_type": "code",
   "execution_count": null,
   "id": "ea051337",
   "metadata": {},
   "outputs": [],
   "source": []
  }
 ],
 "metadata": {
  "kernelspec": {
   "display_name": "Python 3 (ipykernel)",
   "language": "python",
   "name": "python3"
  },
  "language_info": {
   "codemirror_mode": {
    "name": "ipython",
    "version": 3
   },
   "file_extension": ".py",
   "mimetype": "text/x-python",
   "name": "python",
   "nbconvert_exporter": "python",
   "pygments_lexer": "ipython3",
   "version": "3.9.2"
  }
 },
 "nbformat": 4,
 "nbformat_minor": 5
}
